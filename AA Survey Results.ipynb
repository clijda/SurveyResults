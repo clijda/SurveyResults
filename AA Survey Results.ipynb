{
 "cells": [
  {
   "cell_type": "markdown",
   "metadata": {},
   "source": [
    "# Advanced Analytics Survey Results (Before)"
   ]
  },
  {
   "cell_type": "markdown",
   "metadata": {},
   "source": [
    "Very short survey on AA awareness in Borealis send out to 158 people in different spokes.\n",
    "1. Are you **aware** of the Borealis initiative around Advanced Analytics?\n",
    "2. Have you attended a presentation or info **session** on Advanced Analytics?\n",
    "3. Can you quote one possible **area** of application to generate value from data in your department using Advanced Analytics? If yes, please describe. [Open]\n",
    "4. Do you know who your **Analytics Coordinator** is?\n",
    "5. Please describe in a few words the **role** of your analytics coordinator. [Open]\n",
    "6. If you have any **feedback** on Advanced Analytics, please feel free to comment below. [Open]\n"
   ]
  },
  {
   "cell_type": "code",
   "execution_count": 3,
   "metadata": {
    "collapsed": true
   },
   "outputs": [],
   "source": [
    "import pandas as pd\n",
    "import matplotlib.pyplot as plt\n",
    "import seaborn as sns\n",
    "from sklearn.feature_extraction.text import CountVectorizer\n",
    "%matplotlib inline\n",
    "sns.set(style=\"whitegrid\")"
   ]
  },
  {
   "cell_type": "markdown",
   "metadata": {},
   "source": [
    "#### Load the raw survey results"
   ]
  },
  {
   "cell_type": "code",
   "execution_count": 4,
   "metadata": {
    "collapsed": false
   },
   "outputs": [],
   "source": [
    "fn = '\\\\\\me0255\\users$\\MECLIJDA\\Data Science\\Survey\\AASurveyResults.xlsx'\n",
    "df = pd.read_excel(fn)\n",
    "colnames = df.columns.tolist()"
   ]
  },
  {
   "cell_type": "markdown",
   "metadata": {},
   "source": [
    "#### Rename questions to column names"
   ]
  },
  {
   "cell_type": "code",
   "execution_count": 5,
   "metadata": {
    "collapsed": false
   },
   "outputs": [],
   "source": [
    "df.columns = ['Creator','Aware','Session','AppArea','ACN','RoleACN','Feedback','ItemType','Path','Spoke','Dep','Topic']"
   ]
  },
  {
   "cell_type": "markdown",
   "metadata": {},
   "source": [
    "#### Drop the name of the person who entered the survey (anonymisation)"
   ]
  },
  {
   "cell_type": "code",
   "execution_count": 6,
   "metadata": {
    "collapsed": false
   },
   "outputs": [],
   "source": [
    "df.drop(['Creator'], axis = 1 , inplace= True,errors= 'ignore')"
   ]
  },
  {
   "cell_type": "markdown",
   "metadata": {},
   "source": [
    "### Survey Setup"
   ]
  },
  {
   "cell_type": "code",
   "execution_count": 95,
   "metadata": {
    "collapsed": false
   },
   "outputs": [
    {
     "name": "stdout",
     "output_type": "stream",
     "text": [
      "Response Rate: 30.4% - 48 responses out of 158\n"
     ]
    }
   ],
   "source": [
    "dfSurveySetup = pd.DataFrame({'Spoke':['Business Support','Fertiliser','Operations','HC&E','Innotech','PO'],\n",
    "                                       'TotalCount':[35,38,33,10,15,27]})\n",
    "TotalSurveyPopulation = dfSurveySetup['TotalCount'].sum()\n",
    "print('Response Rate: ' + \"%.1f\" % (len(df)*100/float(TotalSurveyPopulation)) + '% - ' + str(len(df)) + \" responses out of \" + str(TotalSurveyPopulation))\n",
    "df1 = df['Spoke'].value_counts().to_frame(name='ResponseCount').reset_index()\n",
    "df2 = pd.merge(dfSurveySetup,df1,left_on=dfSurveySetup['Spoke'],right_on=df1['index'])\n",
    "df2['ResRate'] = df2['ResponseCount']/df2['TotalCount']\n",
    "df2.drop('index',axis=1,inplace=True)\n",
    "df2.sort_values(['TotalCount','ResponseCount'],ascending=[False,False],inplace=True)"
   ]
  },
  {
   "cell_type": "markdown",
   "metadata": {},
   "source": [
    "### Who responded to the survey?"
   ]
  },
  {
   "cell_type": "code",
   "execution_count": 96,
   "metadata": {
    "collapsed": false
   },
   "outputs": [
    {
     "data": {
      "image/png": "[encoded data removed]",
      "text/plain": [
       "<matplotlib.figure.Figure at 0xd1698d0>"
      ]
     },
     "metadata": {},
     "output_type": "display_data"
    }
   ],
   "source": [
    "f, ax = plt.subplots(figsize=(12, 3))\n",
    "sns.set_color_codes(\"pastel\")\n",
    "sns.barplot(x=\"TotalCount\", y=\"Spoke\", data=df2,\n",
    "            label=\"Total\", color=\"b\")\n",
    "\n",
    "# Plot the crashes where alcohol was involved\n",
    "sns.set_color_codes(\"muted\")\n",
    "sns.barplot(x=\"ResponseCount\", y=\"Spoke\", data=df2,\n",
    "            label=\"Respondants\", color=\"b\")\n",
    "\n",
    "# Add a legend and informative axis label\n",
    "ax.legend(ncol=2, loc=\"lower right\", frameon=True)\n",
    "ax.set(xlim=(0, 40), ylabel=\"\",\n",
    "       xlabel=\"Survey respondants per spoke\")\n",
    "sns.despine(left=True, bottom=True)\n",
    "sns.plt.show()"
   ]
  },
  {
   "cell_type": "markdown",
   "metadata": {},
   "source": [
    "### Are you aware of the Borealis initiative around Advanced Analytics?"
   ]
  },
  {
   "cell_type": "code",
   "execution_count": 70,
   "metadata": {
    "collapsed": false,
    "scrolled": true
   },
   "outputs": [
    {
     "data": {
      "image/png": "[encoded data removed]",
      "text/plain": [
       "<matplotlib.figure.Figure at 0xd442dd0>"
      ]
     },
     "metadata": {},
     "output_type": "display_data"
    },
    {
     "name": "stdout",
     "output_type": "stream",
     "text": [
      "64.6% are aware\n"
     ]
    }
   ],
   "source": [
    "plt.figure(figsize=(12,1))\n",
    "plt.xlim(0,len(df))\n",
    "sns.countplot(y=\"Aware\",data=df,order=['Yes','No'],palette=\"Dark2\")\n",
    "#sns.plt.title(colnames(1))\n",
    "sns.plt.show()\n",
    "pct = sum(df['Aware']=='Yes')*100.0/len(df['Aware'])\n",
    "print(\"%.1f\" % pct + \"% are aware\")"
   ]
  },
  {
   "cell_type": "code",
   "execution_count": 97,
   "metadata": {
    "collapsed": false
   },
   "outputs": [
    {
     "data": {
      "text/html": [
       "<div>\n",
       "<table border=\"1\" class=\"dataframe\">\n",
       "  <thead>\n",
       "    <tr style=\"text-align: right;\">\n",
       "      <th></th>\n",
       "      <th>Spoke</th>\n",
       "    </tr>\n",
       "  </thead>\n",
       "  <tbody>\n",
       "    <tr>\n",
       "      <th>PO</th>\n",
       "      <td>5</td>\n",
       "    </tr>\n",
       "    <tr>\n",
       "      <th>Operations</th>\n",
       "      <td>5</td>\n",
       "    </tr>\n",
       "    <tr>\n",
       "      <th>Business Support</th>\n",
       "      <td>4</td>\n",
       "    </tr>\n",
       "    <tr>\n",
       "      <th>Fertiliser</th>\n",
       "      <td>3</td>\n",
       "    </tr>\n",
       "  </tbody>\n",
       "</table>\n",
       "</div>"
      ],
      "text/plain": [
       "                  Spoke\n",
       "PO                    5\n",
       "Operations            5\n",
       "Business Support      4\n",
       "Fertiliser            3"
      ]
     },
     "execution_count": 97,
     "metadata": {},
     "output_type": "execute_result"
    }
   ],
   "source": [
    "df_notaware = df[df['Aware']=='No']\n",
    "df_notaware['Spoke'].value_counts().to_frame()"
   ]
  },
  {
   "cell_type": "markdown",
   "metadata": {},
   "source": [
    "### Have you attended a presentation or info session on Advanced Analytics?"
   ]
  },
  {
   "cell_type": "code",
   "execution_count": 10,
   "metadata": {
    "collapsed": false,
    "scrolled": true
   },
   "outputs": [
    {
     "data": {
      "image/png": "[encoded data removed]",
      "text/plain": [
       "<matplotlib.figure.Figure at 0xc07d9b0>"
      ]
     },
     "metadata": {},
     "output_type": "display_data"
    },
    {
     "name": "stdout",
     "output_type": "stream",
     "text": [
      "35.4% have attended a session\n"
     ]
    }
   ],
   "source": [
    "plt.figure(figsize=(12,1))\n",
    "plt.xlim(0,len(df))\n",
    "sns.countplot(y=\"Session\",data=df,order=['Yes','No'],palette=\"Dark2\")\n",
    "plt.show()\n",
    "pct = sum(df['Session']=='Yes')*100.0/len(df['Session'])\n",
    "print(\"%.1f\" % pct + \"% have attended a session\")"
   ]
  },
  {
   "cell_type": "code",
   "execution_count": 11,
   "metadata": {
    "collapsed": false
   },
   "outputs": [
    {
     "data": {
      "image/png": "[encoded data removed]",
      "text/plain": [
       "<matplotlib.figure.Figure at 0xc138c90>"
      ]
     },
     "metadata": {},
     "output_type": "display_data"
    },
    {
     "name": "stdout",
     "output_type": "stream",
     "text": [
      "51.6% of those who are aware have attended a session\n"
     ]
    }
   ],
   "source": [
    "plt.figure(figsize=(12,1))\n",
    "df_aware = df[df['Aware']=='Yes']\n",
    "plt.xlim(0,len(df_aware))\n",
    "sns.countplot(y=\"Session\",data=df_aware,order=['Yes','No'],palette=\"Dark2\")\n",
    "plt.show()\n",
    "pct = sum(df_aware['Session']=='Yes')*100.0/len(df_aware['Session'])\n",
    "print(\"%.1f\" % pct + \"% of those who are aware have attended a session\")"
   ]
  },
  {
   "cell_type": "markdown",
   "metadata": {},
   "source": [
    "How are people aware without attending a session? word of mouth?"
   ]
  },
  {
   "cell_type": "markdown",
   "metadata": {},
   "source": [
    "### Do you know who your Analytics Coordinator is?"
   ]
  },
  {
   "cell_type": "code",
   "execution_count": 12,
   "metadata": {
    "collapsed": false
   },
   "outputs": [
    {
     "data": {
      "image/png": "[encoded data removed]",
      "text/plain": [
       "<matplotlib.figure.Figure at 0x59d5950>"
      ]
     },
     "metadata": {},
     "output_type": "display_data"
    },
    {
     "name": "stdout",
     "output_type": "stream",
     "text": [
      "43.8% know the analytics coordinator\n"
     ]
    }
   ],
   "source": [
    "plt.figure(figsize=(12,1))\n",
    "plt.xlim(0,len(df))\n",
    "sns.countplot(y=\"ACN\",data=df,order=['Yes','No'],palette=\"Dark2\")\n",
    "plt.show()\n",
    "pct = sum(df['ACN']=='Yes')*100.0/len(df['ACN'])\n",
    "print(\"%.1f\" % pct + \"% know the analytics coordinator\")"
   ]
  },
  {
   "cell_type": "code",
   "execution_count": 13,
   "metadata": {
    "collapsed": false
   },
   "outputs": [
    {
     "data": {
      "image/png": "[encoded data removed]",
      "text/plain": [
       "<matplotlib.figure.Figure at 0xc3465b0>"
      ]
     },
     "metadata": {},
     "output_type": "display_data"
    },
    {
     "name": "stdout",
     "output_type": "stream",
     "text": [
      "82.4% of those who have attended a session know who the analytics coordinator is.\n"
     ]
    }
   ],
   "source": [
    "plt.figure(figsize=(12,1))\n",
    "df_session = df[df['Session']=='Yes']\n",
    "plt.xlim(0,len(df_session))\n",
    "sns.countplot(y=\"ACN\",data=df_session,order=['Yes','No'],palette=\"Dark2\")\n",
    "plt.show()\n",
    "pct = sum(df_session['ACN']=='Yes')*100.0/len(df_session['ACN'])\n",
    "print(\"%.1f\" % pct + \"% of those who have attended a session know who the analytics coordinator is.\")"
   ]
  },
  {
   "cell_type": "markdown",
   "metadata": {},
   "source": [
    "Lesson learned: Make even more clear who the analytics coordinator is in the sessions to come."
   ]
  },
  {
   "cell_type": "code",
   "execution_count": 14,
   "metadata": {
    "collapsed": false
   },
   "outputs": [
    {
     "data": {
      "image/png": "[encoded data removed]",
      "text/plain": [
       "<matplotlib.figure.Figure at 0xc477770>"
      ]
     },
     "metadata": {},
     "output_type": "display_data"
    },
    {
     "name": "stdout",
     "output_type": "stream",
     "text": [
      "22.6% of those who have NOT attended a session know who the analytics coordinator is!\n"
     ]
    }
   ],
   "source": [
    "plt.figure(figsize=(12,1))\n",
    "df_session = df[df['Session']=='No']\n",
    "plt.xlim(0,len(df_session))\n",
    "sns.countplot(y=\"ACN\",data=df_session,order=['Yes','No'],palette=\"Dark2\")\n",
    "plt.show()\n",
    "pct = sum(df_session['ACN']=='Yes')*100.0/len(df_session['ACN'])\n",
    "print(\"%.1f\" % pct + \"% of those who have NOT attended a session know who the analytics coordinator is!\")"
   ]
  },
  {
   "cell_type": "code",
   "execution_count": 15,
   "metadata": {
    "collapsed": false
   },
   "outputs": [
    {
     "data": {
      "text/plain": [
       "array([u'dashboard', u'upset analysis', u'demand side management',\n",
       "       u'n-pilot analysis', u'energy efficiency',\n",
       "       u'innotech test results analysis', u'data management',\n",
       "       u'marketing & market area analysis', u'Statistical forecasting',\n",
       "       u'APC', u'predictive maintenance', u'reliability',\n",
       "       u'price prediction', u'customer behaviour', u'patent mining',\n",
       "       u'workforce prediction', u'process data analytics',\n",
       "       u'HR future planning', u'quality control',\n",
       "       u'preventive maintenance', u'product pricing',\n",
       "       u'market intelligence'], dtype=object)"
      ]
     },
     "execution_count": 15,
     "metadata": {},
     "output_type": "execute_result"
    }
   ],
   "source": [
    "L=[x.split(\", \") for x in df['Topic'].dropna().tolist()]\n",
    "pd.unique([item for sublist in L for item in sublist])"
   ]
  },
  {
   "cell_type": "markdown",
   "metadata": {},
   "source": [
    "Several ideas have been proposed. They can be categorised according to the spokes:\n",
    "- **Operations**: upset analysis, energy efficiency, APC, predictive maintenance, reliability, process data analysis, quality control\n",
    "- **Business (Polyolefins, Fertilizer, HC&E)**: demand side management, marketing & market area analysis, statistical forecasting, price prediction, customer behaviour, product pricing, market intelligence, n-pilot analysis\n",
    "- **Business Support**: workforce prediction, HR future planning\n",
    "- **Innotech**: test result analysis, patent mining"
   ]
  },
  {
   "cell_type": "code",
   "execution_count": 16,
   "metadata": {
    "collapsed": false
   },
   "outputs": [],
   "source": [
    "from __future__ import print_function\n",
    "from time import time\n",
    "import numpy as np\n",
    "\n",
    "from sklearn.feature_extraction.text import TfidfVectorizer, CountVectorizer\n",
    "from sklearn.decomposition import NMF, LatentDirichletAllocation\n",
    "\n",
    "n_samples = 2000\n",
    "n_features = 1000\n",
    "n_topics = 10\n",
    "n_top_words = 20\n",
    "\n",
    "\n",
    "def print_top_words(model, feature_names, n_top_words):\n",
    "    for topic_idx, topic in enumerate(model.components_):\n",
    "        print(\"Topic #%d:\" % (int(topic_idx)+1))\n",
    "        print(\" \".join([feature_names[i]\n",
    "                        for i in topic.argsort()[:-n_top_words - 1:-1]]))\n",
    "    print()\n"
   ]
  },
  {
   "cell_type": "code",
   "execution_count": 17,
   "metadata": {
    "collapsed": false,
    "scrolled": false
   },
   "outputs": [
    {
     "name": "stdout",
     "output_type": "stream",
     "text": [
      "Extracting tf-idf features for NMF...\n",
      "done in 0.000s.\n"
     ]
    },
    {
     "data": {
      "text/html": [
       "<div>\n",
       "<table border=\"1\" class=\"dataframe\">\n",
       "  <thead>\n",
       "    <tr style=\"text-align: right;\">\n",
       "      <th></th>\n",
       "      <th>term</th>\n",
       "      <th>tfidfsum</th>\n",
       "    </tr>\n",
       "    <tr>\n",
       "      <th>idx</th>\n",
       "      <th></th>\n",
       "      <th></th>\n",
       "    </tr>\n",
       "  </thead>\n",
       "  <tbody>\n",
       "    <tr>\n",
       "      <th>149</th>\n",
       "      <td>really</td>\n",
       "      <td>2.302608</td>\n",
       "    </tr>\n",
       "    <tr>\n",
       "      <th>49</th>\n",
       "      <td>data</td>\n",
       "      <td>2.151702</td>\n",
       "    </tr>\n",
       "    <tr>\n",
       "      <th>68</th>\n",
       "      <td>forecast</td>\n",
       "      <td>1.880705</td>\n",
       "    </tr>\n",
       "    <tr>\n",
       "      <th>123</th>\n",
       "      <td>pilot</td>\n",
       "      <td>1.671096</td>\n",
       "    </tr>\n",
       "    <tr>\n",
       "      <th>9</th>\n",
       "      <td>analytics</td>\n",
       "      <td>1.583914</td>\n",
       "    </tr>\n",
       "    <tr>\n",
       "      <th>26</th>\n",
       "      <td>business</td>\n",
       "      <td>1.459515</td>\n",
       "    </tr>\n",
       "    <tr>\n",
       "      <th>5</th>\n",
       "      <td>advanced</td>\n",
       "      <td>1.417923</td>\n",
       "    </tr>\n",
       "    <tr>\n",
       "      <th>169</th>\n",
       "      <td>statistical</td>\n",
       "      <td>1.346580</td>\n",
       "    </tr>\n",
       "    <tr>\n",
       "      <th>12</th>\n",
       "      <td>area</td>\n",
       "      <td>1.268564</td>\n",
       "    </tr>\n",
       "    <tr>\n",
       "      <th>152</th>\n",
       "      <td>reliability</td>\n",
       "      <td>1.215384</td>\n",
       "    </tr>\n",
       "    <tr>\n",
       "      <th>66</th>\n",
       "      <td>fertilizer</td>\n",
       "      <td>1.135208</td>\n",
       "    </tr>\n",
       "    <tr>\n",
       "      <th>125</th>\n",
       "      <td>planning</td>\n",
       "      <td>1.127258</td>\n",
       "    </tr>\n",
       "    <tr>\n",
       "      <th>20</th>\n",
       "      <td>behaviour</td>\n",
       "      <td>1.087634</td>\n",
       "    </tr>\n",
       "    <tr>\n",
       "      <th>47</th>\n",
       "      <td>customer</td>\n",
       "      <td>1.087634</td>\n",
       "    </tr>\n",
       "    <tr>\n",
       "      <th>112</th>\n",
       "      <td>need</td>\n",
       "      <td>0.997764</td>\n",
       "    </tr>\n",
       "    <tr>\n",
       "      <th>21</th>\n",
       "      <td>better</td>\n",
       "      <td>0.981961</td>\n",
       "    </tr>\n",
       "    <tr>\n",
       "      <th>59</th>\n",
       "      <td>energy</td>\n",
       "      <td>0.968200</td>\n",
       "    </tr>\n",
       "    <tr>\n",
       "      <th>156</th>\n",
       "      <td>sales</td>\n",
       "      <td>0.897770</td>\n",
       "    </tr>\n",
       "    <tr>\n",
       "      <th>101</th>\n",
       "      <td>market</td>\n",
       "      <td>0.888743</td>\n",
       "    </tr>\n",
       "    <tr>\n",
       "      <th>194</th>\n",
       "      <td>use</td>\n",
       "      <td>0.877776</td>\n",
       "    </tr>\n",
       "  </tbody>\n",
       "</table>\n",
       "</div>"
      ],
      "text/plain": [
       "            term  tfidfsum\n",
       "idx                       \n",
       "149       really  2.302608\n",
       "49          data  2.151702\n",
       "68      forecast  1.880705\n",
       "123        pilot  1.671096\n",
       "9      analytics  1.583914\n",
       "26      business  1.459515\n",
       "5       advanced  1.417923\n",
       "169  statistical  1.346580\n",
       "12          area  1.268564\n",
       "152  reliability  1.215384\n",
       "66    fertilizer  1.135208\n",
       "125     planning  1.127258\n",
       "20     behaviour  1.087634\n",
       "47      customer  1.087634\n",
       "112         need  0.997764\n",
       "21        better  0.981961\n",
       "59        energy  0.968200\n",
       "156        sales  0.897770\n",
       "101       market  0.888743\n",
       "194          use  0.877776"
      ]
     },
     "execution_count": 17,
     "metadata": {},
     "output_type": "execute_result"
    }
   ],
   "source": [
    "# Use tf-idf features for NMF.\n",
    "print(\"Extracting tf-idf features for NMF...\")\n",
    "tfidf_vectorizer = TfidfVectorizer(max_df=0.95, min_df=1,\n",
    "                                   max_features=n_features,\n",
    "                                   stop_words='english')\n",
    "t0 = time()\n",
    "data_samples = df['AppArea'].dropna().tolist()\n",
    "tfidf = tfidf_vectorizer.fit_transform(data_samples)\n",
    "#print(data_samples)\n",
    "print(\"done in %0.3fs.\" % (time() - t0))\n",
    "voc = tfidf_vectorizer.get_feature_names()\n",
    "toplist = tfidf.A.sum(axis=0).argsort()[::-1][:n_top_words]\n",
    "top_tfidf_df = pd.DataFrame({'idx': toplist, 'tfidfsum': [tfidf.A.sum(axis=0)[i] for i in toplist], 'term': [voc[i] for i in toplist]})\n",
    "top_tfidf_df.set_index(['idx'],inplace=True)\n",
    "top_tfidf_df"
   ]
  },
  {
   "cell_type": "code",
   "execution_count": 18,
   "metadata": {
    "collapsed": false
   },
   "outputs": [
    {
     "name": "stdout",
     "output_type": "stream",
     "text": [
      "Extracting tf features for LDA...\n",
      "done in 0.000s.\n"
     ]
    },
    {
     "data": {
      "text/html": [
       "<div>\n",
       "<table border=\"1\" class=\"dataframe\">\n",
       "  <thead>\n",
       "    <tr style=\"text-align: right;\">\n",
       "      <th></th>\n",
       "      <th>term</th>\n",
       "      <th>tfsum</th>\n",
       "    </tr>\n",
       "    <tr>\n",
       "      <th>idx</th>\n",
       "      <th></th>\n",
       "      <th></th>\n",
       "    </tr>\n",
       "  </thead>\n",
       "  <tbody>\n",
       "    <tr>\n",
       "      <th>10</th>\n",
       "      <td>data</td>\n",
       "      <td>11</td>\n",
       "    </tr>\n",
       "    <tr>\n",
       "      <th>0</th>\n",
       "      <td>advanced</td>\n",
       "      <td>6</td>\n",
       "    </tr>\n",
       "    <tr>\n",
       "      <th>2</th>\n",
       "      <td>analytics</td>\n",
       "      <td>5</td>\n",
       "    </tr>\n",
       "    <tr>\n",
       "      <th>41</th>\n",
       "      <td>sales</td>\n",
       "      <td>4</td>\n",
       "    </tr>\n",
       "    <tr>\n",
       "      <th>39</th>\n",
       "      <td>reliability</td>\n",
       "      <td>4</td>\n",
       "    </tr>\n",
       "    <tr>\n",
       "      <th>6</th>\n",
       "      <td>business</td>\n",
       "      <td>4</td>\n",
       "    </tr>\n",
       "    <tr>\n",
       "      <th>8</th>\n",
       "      <td>cost</td>\n",
       "      <td>4</td>\n",
       "    </tr>\n",
       "    <tr>\n",
       "      <th>33</th>\n",
       "      <td>process</td>\n",
       "      <td>4</td>\n",
       "    </tr>\n",
       "    <tr>\n",
       "      <th>15</th>\n",
       "      <td>forecast</td>\n",
       "      <td>4</td>\n",
       "    </tr>\n",
       "    <tr>\n",
       "      <th>28</th>\n",
       "      <td>pilot</td>\n",
       "      <td>3</td>\n",
       "    </tr>\n",
       "    <tr>\n",
       "      <th>3</th>\n",
       "      <td>area</td>\n",
       "      <td>3</td>\n",
       "    </tr>\n",
       "    <tr>\n",
       "      <th>5</th>\n",
       "      <td>better</td>\n",
       "      <td>3</td>\n",
       "    </tr>\n",
       "    <tr>\n",
       "      <th>7</th>\n",
       "      <td>control</td>\n",
       "      <td>3</td>\n",
       "    </tr>\n",
       "    <tr>\n",
       "      <th>14</th>\n",
       "      <td>fertilizer</td>\n",
       "      <td>3</td>\n",
       "    </tr>\n",
       "    <tr>\n",
       "      <th>16</th>\n",
       "      <td>forecasting</td>\n",
       "      <td>3</td>\n",
       "    </tr>\n",
       "    <tr>\n",
       "      <th>20</th>\n",
       "      <td>leadership</td>\n",
       "      <td>3</td>\n",
       "    </tr>\n",
       "    <tr>\n",
       "      <th>45</th>\n",
       "      <td>use</td>\n",
       "      <td>3</td>\n",
       "    </tr>\n",
       "    <tr>\n",
       "      <th>43</th>\n",
       "      <td>support</td>\n",
       "      <td>3</td>\n",
       "    </tr>\n",
       "    <tr>\n",
       "      <th>42</th>\n",
       "      <td>statistical</td>\n",
       "      <td>3</td>\n",
       "    </tr>\n",
       "    <tr>\n",
       "      <th>37</th>\n",
       "      <td>really</td>\n",
       "      <td>3</td>\n",
       "    </tr>\n",
       "  </tbody>\n",
       "</table>\n",
       "</div>"
      ],
      "text/plain": [
       "            term  tfsum\n",
       "idx                    \n",
       "10          data     11\n",
       "0       advanced      6\n",
       "2      analytics      5\n",
       "41         sales      4\n",
       "39   reliability      4\n",
       "6       business      4\n",
       "8           cost      4\n",
       "33       process      4\n",
       "15      forecast      4\n",
       "28         pilot      3\n",
       "3           area      3\n",
       "5         better      3\n",
       "7        control      3\n",
       "14    fertilizer      3\n",
       "16   forecasting      3\n",
       "20    leadership      3\n",
       "45           use      3\n",
       "43       support      3\n",
       "42   statistical      3\n",
       "37        really      3"
      ]
     },
     "execution_count": 18,
     "metadata": {},
     "output_type": "execute_result"
    }
   ],
   "source": [
    "# Use tf (raw term count) features for LDA.\n",
    "print(\"Extracting tf features for LDA...\")\n",
    "tf_vectorizer = CountVectorizer(max_df=0.95, min_df=2,\n",
    "                                max_features=n_features,\n",
    "                                stop_words='english')\n",
    "t0 = time()\n",
    "tf = tf_vectorizer.fit_transform(data_samples)\n",
    "print(\"done in %0.3fs.\" % (time() - t0))\n",
    "voc = tf_vectorizer.get_feature_names()\n",
    "toplist = tf.A.sum(axis=0).argsort()[::-1][:n_top_words]\n",
    "top_tf_df = pd.DataFrame({'idx': toplist, 'tfsum': [tf.A.sum(axis=0)[i] for i in toplist], 'term': [voc[i] for i in toplist]})\n",
    "top_tf_df.set_index(['idx'],inplace=True)\n",
    "top_tf_df"
   ]
  },
  {
   "cell_type": "code",
   "execution_count": 19,
   "metadata": {
    "collapsed": false
   },
   "outputs": [
    {
     "name": "stdout",
     "output_type": "stream",
     "text": [
      "Fitting the NMF model with tf-idf features, n_samples=2000 and n_features=1000...\n",
      "done in 0.281s.\n",
      "\n",
      "Topics in NMF model:\n",
      "Topic #1:\n",
      "really information sounds philosophy good mail leadership equipment forecasting forecast finding fertilizer extract expect excellence evaluate engagement fuse energy don\n",
      "Topic #2:\n",
      "pilot lims datamanagement management data service satelite biomass combine measurements development analyse steering activities use sales forecasting forecast finding fertilizer\n",
      "Topic #3:\n",
      "forecast statistical improve accuracy prices fertilizer forecasting sales sure planning area forecasts challenge setup plánning toe tool doing provided apo\n",
      "Topic #4:\n",
      "reliability quality leadership kpi improvement cost aa plants fertilizer control use respectively related plant data apo extract future fuse forecasts\n",
      "Topic #5:\n",
      "customer behaviour cancellation change predict ordering extract future fuse forecasts forecasting forecast finding fertilizer workforce generated excellence evaluate equipment engagement\n",
      "Topic #6:\n",
      "analytics advanced waht don know completly background area new covers clear adavnced mail philosophy sounds information good need future forecasting\n",
      "Topic #7:\n",
      "business centre calculations input case provide data generated future fuse forecasts forecasting forecast finding fertilizer workforce extract excellence evaluate equipment\n",
      "Topic #8:\n",
      "knowing organisations wahat think way present plan hr future possibilities support analytics advanced data discussed fertilizer fuse forecasts forecasting forecast\n",
      "Topic #9:\n",
      "need training mail philosophy information sounds good doing department fuse forecasts demand forecasting forecast finding fertilizer extract expect don developed\n",
      "Topic #10:\n",
      "moment value thinking urea added sell new possibilities finding forecast fertilizer extract expect forecasting forecasts excellence workforce evaluate future equipment\n",
      "\n"
     ]
    }
   ],
   "source": [
    "# Fit the NMF model\n",
    "print(\"Fitting the NMF model with tf-idf features, \"\n",
    "      \"n_samples=%d and n_features=%d...\"\n",
    "      % (n_samples, n_features))\n",
    "t0 = time()\n",
    "nmf = NMF(n_components=n_topics, random_state=1,\n",
    "          alpha=.1, l1_ratio=.5).fit(tfidf)\n",
    "print(\"done in %0.3fs.\" % (time() - t0))\n",
    "\n",
    "print(\"\\nTopics in NMF model:\")\n",
    "tfidf_feature_names = tfidf_vectorizer.get_feature_names()\n",
    "print_top_words(nmf, tfidf_feature_names, n_top_words)"
   ]
  },
  {
   "cell_type": "code",
   "execution_count": 20,
   "metadata": {
    "collapsed": false
   },
   "outputs": [
    {
     "name": "stdout",
     "output_type": "stream",
     "text": [
      "Fitting LDA models with tf features, n_samples=2000 and n_features=1000...\n",
      "done in 0.078s.\n",
      "\n",
      "Topics in LDA model:\n",
      "Topic #1:\n",
      "data advanced analytics cost leadership related future reliability support process equipment hr fertilizer performance forecasting maintenance operations business possibilities results\n",
      "Topic #2:\n",
      "forecast really fertilizer improve better support new analytics market planning provide advanced demand use future control process hr performance customer\n",
      "Topic #3:\n",
      "preventive hr improve management analytics pilot support better use market data forecasting provide team sales area planning operations forecast really\n",
      "Topic #4:\n",
      "pilot market data area maintenance new sales analysis management use possibilities product forecasting preventive analytics control related business customer advanced\n",
      "Topic #5:\n",
      "need data related performance statistical support better plant business preventive market customer pilot forecast provide new advanced reliability future quality\n",
      "Topic #6:\n",
      "business sales process better data provide statistical forecast team forecasting control demand improve plant customer cost related support management hr\n",
      "Topic #7:\n",
      "behaviour customer really need energy preventive product market area future analytics equipment cost new advanced maintenance use forecasting leadership analysis\n",
      "Topic #8:\n",
      "energy demand really related results new market control analysis possibilities operations management data preventive use customer future equipment statistical provide\n",
      "Topic #9:\n",
      "planning statistical future forecasting area equipment operations new market demand related reliability team data analysis control management possibilities performance leadership\n",
      "Topic #10:\n",
      "quality use reliability control management product results cost leadership fertilizer possibilities support better provide energy area market need new business\n",
      "\n"
     ]
    }
   ],
   "source": [
    "print(\"Fitting LDA models with tf features, \"\n",
    "      \"n_samples=%d and n_features=%d...\"\n",
    "      % (n_samples, n_features))\n",
    "lda = LatentDirichletAllocation(n_topics=n_topics, max_iter=5,\n",
    "                                learning_method='online',\n",
    "                                learning_offset=50.,\n",
    "                                random_state=0)\n",
    "t0 = time()\n",
    "lda.fit(tf)\n",
    "print(\"done in %0.3fs.\" % (time() - t0))\n",
    "\n",
    "print(\"\\nTopics in LDA model:\")\n",
    "tf_feature_names = tf_vectorizer.get_feature_names()\n",
    "print_top_words(lda, tf_feature_names, n_top_words)"
   ]
  }
 ],
 "metadata": {
  "kernelspec": {
   "display_name": "Python 2",
   "language": "python",
   "name": "python2"
  },
  "language_info": {
   "codemirror_mode": {
    "name": "ipython",
    "version": 2
   },
   "file_extension": ".py",
   "mimetype": "text/x-python",
   "name": "python",
   "nbconvert_exporter": "python",
   "pygments_lexer": "ipython2",
   "version": "2.7.10"
  }
 },
 "nbformat": 4,
 "nbformat_minor": 0
}
